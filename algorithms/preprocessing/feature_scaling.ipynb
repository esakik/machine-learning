{
 "cells": [
  {
   "cell_type": "markdown",
   "id": "d2deafd7-2489-47df-831c-38e31b78970c",
   "metadata": {},
   "source": [
    "# Installing Libraries (Python version >= 3.8)"
   ]
  },
  {
   "cell_type": "code",
   "execution_count": null,
   "id": "9b000042-57b5-41e3-93b7-ccae417275d3",
   "metadata": {},
   "outputs": [],
   "source": [
    "import sys\n",
    "version = sys.version_info\n",
    "print(version)\n",
    "assert version.major == 3 and version.minor >= 8"
   ]
  },
  {
   "cell_type": "code",
   "execution_count": null,
   "id": "9c9a526d-1f96-4550-96cc-84293cc2037b",
   "metadata": {
    "scrolled": true
   },
   "outputs": [],
   "source": [
    "!python -m pip install -U numpy==1.23.5 pandas==1.5.3 scikit-learn==1.2.2 matplotlib==3.7.4"
   ]
  },
  {
   "cell_type": "markdown",
   "id": "93f7ae2a-4adf-4423-8d48-2d0e42e171eb",
   "metadata": {},
   "source": [
    "# Downloading Dataset"
   ]
  },
  {
   "cell_type": "code",
   "execution_count": null,
   "id": "4f131c7c-5496-4910-bedf-344dc88fa25d",
   "metadata": {
    "scrolled": true
   },
   "outputs": [],
   "source": [
    "import numpy as np\n",
    "import pandas as pd\n",
    "from sklearn.datasets import load_iris\n",
    "\n",
    "\n",
    "iris = load_iris()\n",
    "data = pd.DataFrame(iris.data, columns=iris.feature_names)\n",
    "X = data.iloc[:, 2:]\n",
    "X.head(3)"
   ]
  },
  {
   "cell_type": "markdown",
   "id": "107bd3fe-6098-4bd0-a1d4-8d2655f991d0",
   "metadata": {},
   "source": [
    "# Implementation of Standardization"
   ]
  },
  {
   "cell_type": "markdown",
   "id": "e249cbd1-cc4d-4e75-85ef-2912b87e9898",
   "metadata": {},
   "source": [
    "Standardization is a scaling technique that takes the mean as zero and the variance as one.\n",
    "\n",
    "$$\n",
    "x_i = \\frac{x_i - mean(x)}{SD(x)}\n",
    "$$"
   ]
  },
  {
   "cell_type": "code",
   "execution_count": null,
   "id": "af41fe0d-5d44-48c8-8e35-fcb5d5ce2784",
   "metadata": {
    "scrolled": true
   },
   "outputs": [],
   "source": [
    "def standardize(X):\n",
    "    return (X - np.mean(X, axis=0)) / np.std(X, axis=0)\n",
    "\n",
    "\n",
    "X_std = standardize(X)\n",
    "X_std.head()"
   ]
  },
  {
   "cell_type": "markdown",
   "id": "374abb75-475c-42fc-9f2e-67154f646b0e",
   "metadata": {},
   "source": [
    "# Implementation of Normalization\n",
    "\n",
    "Normalization is a 0-1 scaling method where the minimum value is 0 and the maximum value is 1.\n",
    "\n",
    "$$\n",
    "x_i = \\frac{x_i - min(x)}{max(x) - min(x)}\n",
    "$$"
   ]
  },
  {
   "cell_type": "code",
   "execution_count": null,
   "id": "0888499d-26ea-43d1-8fd3-be58730ca0d0",
   "metadata": {},
   "outputs": [],
   "source": [
    "def normalize(X):\n",
    "    return (X - np.min(X, axis=0)) / (np.max(X, axis=0) - np.min(X, axis=0))\n",
    "\n",
    "\n",
    "X_norm = normalize(X)\n",
    "X_norm.head()"
   ]
  },
  {
   "cell_type": "markdown",
   "id": "27b42e6b-743e-4e3e-b77a-52e62f0f2eab",
   "metadata": {},
   "source": [
    "# Visualization"
   ]
  },
  {
   "cell_type": "code",
   "execution_count": null,
   "id": "d6cdb5ff-64a8-4081-9184-8a5a41d8693a",
   "metadata": {},
   "outputs": [],
   "source": [
    "import matplotlib.pyplot as plt\n",
    "\n",
    "\n",
    "fig = plt.figure(figsize=(16, 12))\n",
    "\n",
    "ax = fig.add_subplot(2, 2, 1)\n",
    "ax.scatter(X.iloc[:, 0], X.iloc[:, 1])\n",
    "ax.set_title(\"Before\")\n",
    "ax.set_xlabel(\"petal length (cm)\")\n",
    "ax.set_ylabel(\"petal width (cm)\")\n",
    "\n",
    "ax = fig.add_subplot(2, 2, 3)\n",
    "ax.scatter(X_std.iloc[:, 0], X_std.iloc[:, 1])\n",
    "ax.set_title(\"After Standardization\")\n",
    "ax.set_xlabel(\"petal length (cm)\")\n",
    "ax.set_ylabel(\"petal width (cm)\")\n",
    "\n",
    "ax = fig.add_subplot(2, 2, 4)\n",
    "ax.scatter(X_norm.iloc[:, 0], X_norm.iloc[:, 1])\n",
    "ax.set_title(\"After Normalization\")\n",
    "ax.set_xlabel(\"petal length (cm)\")\n",
    "ax.set_ylabel(\"petal width (cm)\")\n",
    "\n",
    "plt.show()"
   ]
  }
 ],
 "metadata": {
  "kernelspec": {
   "display_name": "Python 3 (ipykernel)",
   "language": "python",
   "name": "python3"
  },
  "language_info": {
   "codemirror_mode": {
    "name": "ipython",
    "version": 3
   },
   "file_extension": ".py",
   "mimetype": "text/x-python",
   "name": "python",
   "nbconvert_exporter": "python",
   "pygments_lexer": "ipython3",
   "version": "3.8.17"
  }
 },
 "nbformat": 4,
 "nbformat_minor": 5
}
