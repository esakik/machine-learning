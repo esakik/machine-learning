{
 "cells": [
  {
   "cell_type": "markdown",
   "id": "d6cbe503",
   "metadata": {
    "collapsed": false,
    "jupyter": {
     "outputs_hidden": false
    }
   },
   "source": [
    "# Installing Libraries (Python version >= 3.8)"
   ]
  },
  {
   "cell_type": "code",
   "execution_count": null,
   "id": "1d9f6b40",
   "metadata": {
    "collapsed": false,
    "jupyter": {
     "outputs_hidden": false
    }
   },
   "outputs": [],
   "source": [
    "import sys\n",
    "\n",
    "version = sys.version_info\n",
    "print(version)\n",
    "assert version.major == 3 and version.minor >= 8"
   ]
  },
  {
   "cell_type": "code",
   "execution_count": null,
   "id": "9e53600e-e08e-4d5e-af3e-87f56ce81680",
   "metadata": {},
   "outputs": [],
   "source": [
    "!python -m pip install -U numpy==1.23.5 matplotlib==3.7.4"
   ]
  },
  {
   "cell_type": "markdown",
   "id": "17666bc2-6680-4c68-b8a0-a02f6ceb2774",
   "metadata": {},
   "source": [
    "# Optimization Problem\n",
    "\n",
    "Find the minimum value of the function: $f(x, y) = 3x^2 - 2xy + 3y^2 + 5x - 5y$"
   ]
  },
  {
   "cell_type": "markdown",
   "id": "5d662b25",
   "metadata": {
    "collapsed": false,
    "jupyter": {
     "outputs_hidden": false
    }
   },
   "source": [
    "# Solution\n",
    "\n",
    "The solution to the optimization problem is given by the gradient descent method.\n",
    "\n",
    "The derivative of the function is given by: $\\nabla f(x, y) = \\begin{bmatrix} 6x - 2y + 5 \\\\ -2x + 6y - 5 \\end{bmatrix}$"
   ]
  },
  {
   "cell_type": "code",
   "execution_count": null,
   "id": "b023b400-bd91-44bb-8f51-292f2739e8bf",
   "metadata": {},
   "outputs": [],
   "source": [
    "import numpy as np\n",
    "from typing import Callable\n",
    "\n",
    "\n",
    "def f(solution: np.ndarray) -> float:\n",
    "    \"\"\"The function to minimize.\n",
    "\n",
    "    :param solution: The solution to the function.\n",
    "    :return: The value of the function.\n",
    "    \"\"\"\n",
    "    x, y = solution  # Unpack the solution\n",
    "    return 3 * x ** 2 - 2 * x * y + 3 * y ** 2 + 5 * x - 5 * y\n",
    "\n",
    "\n",
    "def df(solution: np.ndarray) -> np.ndarray:\n",
    "    \"\"\"The derivative of the function.\n",
    "\n",
    "    :param solution: The solution to the function.\n",
    "    :return: The gradient of the function.\n",
    "    \"\"\"\n",
    "    x, y = solution  # Unpack the solution\n",
    "    return np.array([6 * x - 2 * y + 5, -2 * x + 6 * y - 5])\n",
    "\n",
    "\n",
    "class GradientDescent:\n",
    "    \"\"\"Gradient Descent Method.\"\"\"\n",
    "\n",
    "    def __init__(self, f: Callable, df: Callable, alpha: float = 0.01, eps: float = 1e-6) -> None:\n",
    "        \"\"\"Initialize the gradient descent method.\n",
    "\n",
    "        :param f: The function to minimize.\n",
    "        :param df: The derivative of the function.\n",
    "        :param alpha: The learning rate.\n",
    "        :param eps: The convergence criterion.\n",
    "        \"\"\"\n",
    "        self.f = f\n",
    "        self.df = df\n",
    "        self.alpha = alpha\n",
    "        self.eps = eps\n",
    "\n",
    "        self.solutions = []  # Store the solutions (parameters) at each iteration\n",
    "        self.answers = []  # Store the value of the function at each iteration\n",
    "        self.gradients = []  # Store the gradient of the function at each iteration\n",
    "\n",
    "    def solve(self) -> None:\n",
    "        \"\"\"Solve the optimization problem.\"\"\"\n",
    "        self.solutions = []  # Empty the solutions\n",
    "        self.answers = []  # Empty the value of the function\n",
    "        self.gradients = []  # Empty the gradient of the function\n",
    "\n",
    "        solution = np.array([1.0, 1.0])  # Initial solution\n",
    "        answer = self.f(solution)  # Value of the function at the initial solution\n",
    "        grad = self.df(solution)  # Gradient of the function at the initial solution\n",
    "\n",
    "        self.solutions.append(solution)\n",
    "        self.answers = [answer]\n",
    "        self.gradients.append(grad)\n",
    "\n",
    "        # Iterate until the gradient is close to zero\n",
    "        while (grad ** 2).sum() > self.eps ** 2:\n",
    "            solution = solution - self.alpha * grad  # Update the solution\n",
    "            answer = self.f(solution)  # Value of the function at the updated solution\n",
    "            grad = self.df(solution)  # Gradient of the function at the updated solution\n",
    "\n",
    "            self.solutions.append(solution)\n",
    "            self.answers.append(answer)\n",
    "            self.gradients.append(grad)\n",
    "\n",
    "        self.solutions = np.array(self.solutions)\n",
    "        self.answers = np.array(self.answers)\n",
    "        self.gradients = np.array(self.gradients)"
   ]
  },
  {
   "cell_type": "code",
   "execution_count": null,
   "id": "78b338bd-e9f0-4c28-829c-0b96972fa9d3",
   "metadata": {},
   "outputs": [],
   "source": [
    "problem = GradientDescent(f, df)\n",
    "problem.solve()"
   ]
  },
  {
   "cell_type": "code",
   "execution_count": null,
   "id": "cc4a6a92-f25a-4d09-966d-8e62d3d546b0",
   "metadata": {},
   "outputs": [],
   "source": [
    "import matplotlib.pyplot as plt\n",
    "\n",
    "\n",
    "plt.scatter(problem.solutions[0, 0], problem.solutions[0, 1], color=\"k\", marker=\"o\", label=\"Initial Solution\")\n",
    "plt.plot(problem.solutions[:, 0], problem.solutions[:, 1], color=\"k\", linewidth=1.5)\n",
    "xs = np.linspace(-2.5, 1.5, 100)\n",
    "ys = np.linspace(-1.5, 2.5, 100)\n",
    "xmesh, ymesh = np.meshgrid(xs, ys)\n",
    "z = np.concatenate([xmesh.reshape(1, -1), ymesh.reshape(1, -1)], axis=0)\n",
    "levels = [-3, -2.8, -2.6, -2.4, -2.2, -2, -1, 0, 1, 2, 3, 4]\n",
    "plt.contour(xs, ys, f(z).reshape(xmesh.shape), levels=levels, colors=\"k\", linestyles=\"dotted\")\n",
    "plt.show()"
   ]
  },
  {
   "cell_type": "code",
   "execution_count": null,
   "id": "787992bc-6ddc-4bcc-b8c3-ce697b907ec9",
   "metadata": {},
   "outputs": [],
   "source": [
    "fig = plt.figure(figsize=(15, 10))\n",
    "\n",
    "ax = fig.add_subplot(2, 2, 1)\n",
    "ax.set_title(\"Gradient (x)\")\n",
    "ax.set_ylabel(\"Gradient\")\n",
    "ax.set_xlabel(\"Iteration\")\n",
    "ax.plot(np.arange(len(problem.gradients)), problem.gradients[:, 0], color=\"b\")\n",
    "\n",
    "ax = fig.add_subplot(2, 2, 2)\n",
    "ax.set_title(\"Gradient (y)\")\n",
    "ax.set_ylabel(\"Gradient\")\n",
    "ax.set_xlabel(\"Iteration\")\n",
    "ax.plot(np.arange(len(problem.gradients)), problem.gradients[:, 1], color=\"r\")\n",
    "\n",
    "ax = fig.add_subplot(2, 2, 3)\n",
    "ax.set_title(\"Answer\")\n",
    "ax.set_ylabel(\"Value\")\n",
    "ax.set_xlabel(\"Iteration\")\n",
    "ax.plot(np.arange(len(problem.answers)), problem.answers, color=\"r\")\n",
    "\n",
    "plt.show()"
   ]
  }
 ],
 "metadata": {
  "kernelspec": {
   "display_name": "Python 3 (ipykernel)",
   "language": "python",
   "name": "python3"
  },
  "language_info": {
   "codemirror_mode": {
    "name": "ipython",
    "version": 3
   },
   "file_extension": ".py",
   "mimetype": "text/x-python",
   "name": "python",
   "nbconvert_exporter": "python",
   "pygments_lexer": "ipython3",
   "version": "3.8.17"
  }
 },
 "nbformat": 4,
 "nbformat_minor": 5
}
