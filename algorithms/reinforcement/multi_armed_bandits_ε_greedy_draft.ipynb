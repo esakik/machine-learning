{
 "nbformat": 4,
 "nbformat_minor": 0,
 "metadata": {
  "colab": {
   "provenance": [],
   "authorship_tag": "ABX9TyNOn5VoZlDuwVucN4jgtFmJ",
   "include_colab_link": true
  },
  "kernelspec": {
   "name": "python3",
   "language": "python",
   "display_name": "Python 3 (ipykernel)"
  },
  "language_info": {
   "name": "python"
  }
 },
 "cells": [
  {
   "cell_type": "markdown",
   "source": [
    "# Installing Libraries (Python version >= 3.8)"
   ],
   "metadata": {
    "collapsed": false
   }
  },
  {
   "cell_type": "code",
   "execution_count": null,
   "outputs": [],
   "source": [
    "import sys\n",
    "version = sys.version_info\n",
    "print(version)\n",
    "assert version.major == 3 and version.minor >= 8"
   ],
   "metadata": {
    "collapsed": false,
    "ExecuteTime": {
     "start_time": "2024-02-10T17:05:36.511006Z",
     "end_time": "2024-02-10T17:05:36.516946Z"
    }
   }
  },
  {
   "cell_type": "code",
   "execution_count": null,
   "outputs": [],
   "source": [
    "!python -m pip install numpy==1.23.5 matplotlib==3.7.4 tqdm==4.62.3"
   ],
   "metadata": {
    "collapsed": false,
    "ExecuteTime": {
     "start_time": "2024-02-10T17:05:36.681262Z",
     "end_time": "2024-02-10T17:05:38.250366Z"
    }
   }
  },
  {
   "cell_type": "code",
   "source": [
    "import matplotlib.pyplot as plt\n",
    "import numpy as np\n",
    "from tqdm import tqdm\n",
    "\n",
    "\n",
    "class MAB:\n",
    "\n",
    "    def __init__(self, n_arms=10, epsilon=0.1, mean=0.0):\n",
    "        \"\"\"Initialize Multi-armed Bandits (MAB) class.\n",
    "\n",
    "        Args:\n",
    "            n_arms: Number of arms to pull.\n",
    "            epsilon: Probability for exploration in epsilon-greedy algorithm.\n",
    "            mean: Mean value for normal distributions.\n",
    "        \"\"\"\n",
    "        self.n_arms = n_arms\n",
    "        self.mean = mean\n",
    "        self.epsilon = epsilon\n",
    "\n",
    "    def reset(self):\n",
    "        \"\"\"Reset all the information environment and agent have.\"\"\"\n",
    "        # True reward drawn from the normal distribution with mean for each action\n",
    "        self.q_true = np.random.randn(self.n_arms) + self.mean\n",
    "\n",
    "        # Estimated reward for each action\n",
    "        self.q_estimation = np.zeros(self.n_arms)\n",
    "\n",
    "        # Chosen times for each action\n",
    "        self.action_count = np.zeros(self.n_arms)\n",
    "\n",
    "        # Action index with best true reward\n",
    "        self.optimal_action = np.argmax(self.q_true)\n",
    "\n",
    "    def policy(self):\n",
    "        \"\"\"Get index of next action.\n",
    "\n",
    "        Returns:\n",
    "            Index of next action\n",
    "        \"\"\"\n",
    "        # ε-greedy\n",
    "        if np.random.rand() < self.epsilon:\n",
    "            return np.random.choice(np.arange(self.n_arms))\n",
    "        return np.argmax(self.q_estimation)\n",
    "\n",
    "    def step(self, action):\n",
    "        \"\"\"Take action.\n",
    "\n",
    "        Args:\n",
    "            action: Index of next action\n",
    "\n",
    "        Returns:\n",
    "            reward\n",
    "        \"\"\"\n",
    "        # Stochastic reward drawn from the normal distribution\n",
    "        return np.random.randn() + self.q_true[action]\n",
    "\n",
    "    def update(self, action, reward):\n",
    "        \"\"\"Update estimation.\n",
    "\n",
    "        Args:\n",
    "            action: Index of next action\n",
    "            reward: Reward from environment\n",
    "        \"\"\"\n",
    "        self.action_count[action] += 1\n",
    "        self.q_estimation[action] += 1.0 / self.action_count[action] * (reward - self.q_estimation[action])\n",
    "        return reward"
   ],
   "metadata": {
    "id": "kOScV1TpNAlw",
    "ExecuteTime": {
     "start_time": "2024-02-10T17:05:38.257031Z",
     "end_time": "2024-02-10T17:05:38.261013Z"
    }
   },
   "execution_count": null,
   "outputs": []
  },
  {
   "cell_type": "code",
   "source": [
    "def simulate(runs, steps, mab_instances):\n",
    "    optimal_action_counts = np.zeros((len(mab_instances), runs, steps))\n",
    "    rewards = np.zeros(optimal_action_counts.shape)\n",
    "\n",
    "    for i, mab in enumerate(mab_instances):\n",
    "        for r in tqdm(range(runs)):\n",
    "            mab.reset()\n",
    "\n",
    "            for s in range(steps):\n",
    "                action = mab.policy()\n",
    "                reward = mab.step(action=action)\n",
    "                mab.update(action=action, reward=reward)\n",
    "\n",
    "                rewards[i, r, s] = reward\n",
    "                if action == mab.optimal_action:\n",
    "                    optimal_action_counts[i, r, s] = 1\n",
    "\n",
    "    optimal_action_counts = optimal_action_counts.mean(axis=1)\n",
    "    rewards = rewards.mean(axis=1)\n",
    "\n",
    "    return optimal_action_counts, rewards"
   ],
   "metadata": {
    "id": "h84SRhwh4vr7",
    "ExecuteTime": {
     "start_time": "2024-02-10T17:05:38.264973Z",
     "end_time": "2024-02-10T17:05:38.267223Z"
    }
   },
   "execution_count": null,
   "outputs": []
  },
  {
   "cell_type": "code",
   "source": [
    "def plot_reward_distribution():\n",
    "    plt.violinplot(dataset=np.random.randn(200, 10) + np.random.randn(10))\n",
    "    plt.xlabel(\"Action\")\n",
    "    plt.ylabel(\"Reward distribution\")\n",
    "    plt.savefig('./test_bed.png')\n",
    "    plt.close()\n",
    "\n",
    "def run_mab(runs=2000, steps=3000):\n",
    "    epsilons = [0, 0.1, 0.01, 0.5, 1.0]\n",
    "    mab_instances = [MAB(epsilon=epsilon) for epsilon in epsilons]\n",
    "    optimal_action_counts, rewards = simulate(runs, steps, mab_instances)\n",
    "\n",
    "    plt.figure(figsize=(10, 20))\n",
    "\n",
    "    plt.subplot(2, 1, 1)\n",
    "    for eps, rewards in zip(epsilons, rewards):\n",
    "        plt.plot(rewards, label='epsilon = %.02f' % (eps))\n",
    "    plt.xlabel('steps')\n",
    "    plt.ylabel('average reward')\n",
    "    plt.legend()\n",
    "\n",
    "    plt.subplot(2, 1, 2)\n",
    "    for eps, counts in zip(epsilons, optimal_action_counts):\n",
    "        plt.plot(counts, label='epsilon = %.02f' % (eps))\n",
    "    plt.xlabel('steps')\n",
    "    plt.ylabel('% optimal action')\n",
    "    plt.legend()\n",
    "\n",
    "    plt.savefig('./e_greedy.png')\n",
    "    plt.close()"
   ],
   "metadata": {
    "id": "QkUXky3K7W2d",
    "ExecuteTime": {
     "start_time": "2024-02-10T17:05:38.274206Z",
     "end_time": "2024-02-10T17:05:38.280077Z"
    }
   },
   "execution_count": null,
   "outputs": []
  },
  {
   "cell_type": "code",
   "source": [
    "plot_reward_distribution()"
   ],
   "metadata": {
    "id": "kCqKTzh29H1p",
    "ExecuteTime": {
     "start_time": "2024-02-10T17:05:38.618997Z",
     "end_time": "2024-02-10T17:05:38.799621Z"
    }
   },
   "execution_count": null,
   "outputs": []
  },
  {
   "cell_type": "code",
   "source": [
    "run_mab()"
   ],
   "metadata": {
    "colab": {
     "base_uri": "https://localhost:8080/"
    },
    "id": "Q6f5jQdd9Ksv",
    "outputId": "20915a20-4d9e-4ce1-a9cc-918429f37a82"
   },
   "execution_count": null,
   "outputs": []
  }
 ]
}
