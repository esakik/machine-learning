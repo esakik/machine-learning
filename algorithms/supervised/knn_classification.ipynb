{
 "cells": [
  {
   "cell_type": "markdown",
   "id": "858bbf59-7211-4035-b6a0-3b43973b51fc",
   "metadata": {},
   "source": [
    "# Installing Libraries (Python version >= 3.8)"
   ]
  },
  {
   "cell_type": "code",
   "execution_count": null,
   "id": "ba28ba84-2dc9-4bcb-9045-5faef07e82a5",
   "metadata": {},
   "outputs": [],
   "source": [
    "import sys\n",
    "version = sys.version_info\n",
    "print(version)\n",
    "assert version.major == 3 and version.minor >= 8"
   ]
  },
  {
   "cell_type": "code",
   "execution_count": null,
   "id": "3b03be34-4333-4ab4-b7e1-38ca3a92a8dd",
   "metadata": {},
   "outputs": [],
   "source": [
    "!python -m pip install numpy==1.24.4 pandas==2.0.3 scikit-learn==1.3.2 matplotlib==3.7.4"
   ]
  },
  {
   "cell_type": "markdown",
   "id": "ebb168be-3407-4cab-8749-aa35c2f3cf4d",
   "metadata": {},
   "source": [
    "# Downloading/Visualizing Dataset"
   ]
  },
  {
   "cell_type": "code",
   "execution_count": null,
   "id": "94276e02-bda0-4b9f-ae1c-cb6918597235",
   "metadata": {},
   "outputs": [],
   "source": [
    "import numpy as np\n",
    "import pandas as pd\n",
    "from sklearn import datasets\n",
    "from sklearn import model_selection\n",
    "\n",
    "\n",
    "dataset = datasets.load_iris()\n",
    "X = pd.DataFrame(data=dataset.data, columns=dataset.feature_names)\n",
    "y = pd.Series(data=dataset.target, name=\"target\")\n",
    "\n",
    "X_train, X_test, y_train, y_test = model_selection.train_test_split(X, y, random_state=0)\n",
    "\n",
    "display(pd.concat([X, y], axis=1).head())\n",
    "print(\"samples: {}; features: {}\".format(*X.shape))\n",
    "print(\"samples: {}; values: {}\".format(*y.shape, y.unique()))"
   ]
  },
  {
   "cell_type": "markdown",
   "id": "c0d4f660-3c1d-4473-bd08-95a76f2ce93c",
   "metadata": {},
   "source": [
    "# Training Model"
   ]
  },
  {
   "cell_type": "code",
   "execution_count": null,
   "id": "67814a62-a0b9-4aad-b3d6-10c7e85e41dc",
   "metadata": {},
   "outputs": [],
   "source": [
    "from typing import List\n",
    "\n",
    "\n",
    "class KNeighborsClassifier:\n",
    "\n",
    "    def __init__(self) -> None:\n",
    "        self._X_train = None  # The training features to be saved\n",
    "        self._y_train = None  # The training target to be saved\n",
    "\n",
    "    def fit(self, X: pd.DataFrame, y: pd.Series) -> None:\n",
    "        \"\"\"Fit the model from the training dataset.\n",
    "\n",
    "        :param X: The training features.\n",
    "        :param y: The training target.\n",
    "        \"\"\"\n",
    "\n",
    "        self._X_train = X\n",
    "        self._y_train = y\n",
    "\n",
    "    def predict(self, X: pd.DataFrame) -> np.ndarray:\n",
    "        \"\"\"Predict the class labels for the provided data.\n",
    "\n",
    "        :param X: The data to be classified.\n",
    "        :return: The class labels for the provided data.\n",
    "        \"\"\"\n",
    "        classlabels = []\n",
    "        for p0 in X.values:\n",
    "            distances = []\n",
    "            for p1 in self._X_train.values:\n",
    "                # Calculate the Euclidean distance between two points.\n",
    "                distance = self.calculate_euclidean_distance(p0, p1)\n",
    "                distances.append(distance)\n",
    "\n",
    "            # In this classification model, the nearest point is the class label.\n",
    "            # It is possible to use a different number of nearest points to get outcomes in other problems.\n",
    "            nearest_index = np.array(distances).argmin()\n",
    "            classlabels.append(self._y_train.values[nearest_index])\n",
    "\n",
    "        return classlabels\n",
    "\n",
    "    def calculate_euclidean_distance(self, p0: List[float], p1: List[float]) -> float:\n",
    "        \"\"\"Calculate the Euclidean distance between two points.\n",
    "\n",
    "        :param p0: The first point.\n",
    "        :param p1: The second point.\n",
    "        :return: The Euclidean distance between the two points.\n",
    "        \"\"\"\n",
    "        return np.sqrt(np.sum((p0 - p1) ** 2, axis=0))"
   ]
  },
  {
   "cell_type": "code",
   "execution_count": null,
   "id": "5ec97d9f-26c9-4eb9-9147-11417a5ecbb9",
   "metadata": {},
   "outputs": [],
   "source": [
    "model = KNeighborsClassifier()\n",
    "model.fit(X_train, y_train)"
   ]
  },
  {
   "cell_type": "markdown",
   "id": "d9bc492d-dcbc-4d4f-9bb2-c44cd5309935",
   "metadata": {},
   "source": [
    "# Evaluating Model"
   ]
  },
  {
   "cell_type": "code",
   "execution_count": null,
   "id": "f2b0a216-6f2d-4442-9e9e-b8a91c772198",
   "metadata": {},
   "outputs": [],
   "source": [
    "from sklearn.metrics import accuracy_score\n",
    "\n",
    "y_train_pred = model.predict(X_train)\n",
    "print(f\"Accuracy score for train data: {accuracy_score(y_train, y_train_pred)}\")\n",
    "y_test_pred = model.predict(X_test)\n",
    "print(f\"Accuracy score for test data: {accuracy_score(y_test, y_test_pred)}\")"
   ]
  }
 ],
 "metadata": {
  "kernelspec": {
   "display_name": "Python 3 (ipykernel)",
   "language": "python",
   "name": "python3"
  },
  "language_info": {
   "codemirror_mode": {
    "name": "ipython",
    "version": 3
   },
   "file_extension": ".py",
   "mimetype": "text/x-python",
   "name": "python",
   "nbconvert_exporter": "python",
   "pygments_lexer": "ipython3",
   "version": "3.8.17"
  }
 },
 "nbformat": 4,
 "nbformat_minor": 5
}
