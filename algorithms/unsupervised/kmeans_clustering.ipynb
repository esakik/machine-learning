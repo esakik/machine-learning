{
 "cells": [
  {
   "cell_type": "markdown",
   "source": [
    "# Installing Libraries (Python version >= 3.8)"
   ],
   "metadata": {
    "collapsed": false
   }
  },
  {
   "cell_type": "code",
   "execution_count": null,
   "outputs": [],
   "source": [
    "import sys\n",
    "version = sys.version_info\n",
    "print(version)\n",
    "assert version.major == 3 and version.minor >= 8"
   ],
   "metadata": {
    "collapsed": false,
    "ExecuteTime": {
     "start_time": "2024-02-10T15:56:51.187779Z",
     "end_time": "2024-02-10T15:56:51.276344Z"
    }
   }
  },
  {
   "cell_type": "code",
   "execution_count": null,
   "outputs": [],
   "source": [
    "!python -m pip install numpy==1.23.5 pandas==1.5.3 scikit-learn==1.2.2 matplotlib==3.7.4"
   ],
   "metadata": {
    "collapsed": false,
    "ExecuteTime": {
     "start_time": "2024-02-10T15:56:51.193639Z",
     "end_time": "2024-02-10T15:56:52.908972Z"
    }
   }
  },
  {
   "cell_type": "markdown",
   "source": [
    "# Downloading Dataset"
   ],
   "metadata": {
    "collapsed": false
   }
  },
  {
   "cell_type": "code",
   "execution_count": null,
   "outputs": [],
   "source": [
    "import numpy as np\n",
    "import pandas as pd\n",
    "from sklearn import datasets\n",
    "\n",
    "iris = datasets.load_iris()\n",
    "iris_data = pd.DataFrame(iris.data, columns=iris.feature_names)\n",
    "iris_data.head()"
   ],
   "metadata": {
    "collapsed": false,
    "ExecuteTime": {
     "start_time": "2024-02-10T15:56:52.913285Z",
     "end_time": "2024-02-10T15:56:53.061412Z"
    }
   }
  },
  {
   "cell_type": "markdown",
   "source": [
    "# Training Model"
   ],
   "metadata": {
    "collapsed": false
   }
  },
  {
   "cell_type": "code",
   "execution_count": null,
   "outputs": [],
   "source": [
    "class KMeans:\n",
    "\n",
    "    def __init__(self, n_clusters: int, max_iter: int = 300):\n",
    "        \"\"\"Initialize KMeans model.\n",
    "\n",
    "        :param n_clusters: Number of clusters\n",
    "        :param max_iter: Maximum number of iterations\n",
    "        \"\"\"\n",
    "        self.n_clusters = n_clusters\n",
    "        self.max_iter = max_iter\n",
    "\n",
    "    def fit(self, X: np.ndarray) -> np.ndarray:\n",
    "        \"\"\"Train KMeans model.\n",
    "\n",
    "        :param X: Training data\n",
    "        :return: Cluster labels\n",
    "        \"\"\"\n",
    "        # Initialize centroids randomly\n",
    "        centroids = X[np.random.choice(X.shape[0], self.n_clusters)]\n",
    "\n",
    "        # Initialize updated centroids and cluster labels with zeros\n",
    "        updated_centroids = np.zeros((self.n_clusters, X.shape[1]))\n",
    "        cluster_labels = np.zeros(X.shape[0])\n",
    "\n",
    "        for _ in range(self.max_iter):\n",
    "            # Repeat for all samples\n",
    "            for m in range(X.shape[0]):\n",
    "                # Calculate distances between each data and centroids\n",
    "                distances = np.sum((centroids - X[m]) ** 2, axis=1)\n",
    "                # Assign the nearest sample to the cluster\n",
    "                cluster_labels[m] = np.argmin(distances)\n",
    "\n",
    "            # Repeat for all clusters\n",
    "            for c in range(self.n_clusters):\n",
    "                # Update centroids by taking the mean of all samples in the cluster\n",
    "                updated_centroids[c] = X[cluster_labels == c].mean(axis=0)\n",
    "            centroids = updated_centroids\n",
    "\n",
    "        return cluster_labels"
   ],
   "metadata": {
    "collapsed": false,
    "ExecuteTime": {
     "start_time": "2024-02-10T15:56:53.067828Z",
     "end_time": "2024-02-10T15:56:53.070220Z"
    }
   }
  },
  {
   "cell_type": "code",
   "execution_count": null,
   "outputs": [],
   "source": [
    "cluster_labels = KMeans(4).fit(iris_data.values)\n",
    "cluster_labels"
   ],
   "metadata": {
    "collapsed": false
   }
  },
  {
   "cell_type": "markdown",
   "source": [
    "# Visualizing Results"
   ],
   "metadata": {
    "collapsed": false
   }
  },
  {
   "cell_type": "code",
   "execution_count": null,
   "outputs": [],
   "source": [
    "from matplotlib import pyplot as plt\n",
    "\n",
    "iris_data[\"cluster_label\"] = cluster_labels\n",
    "plt.scatter(iris_data.iloc[:, 0], iris_data.iloc[:, 1], c=iris_data.loc[:, \"cluster_label\"], cmap=\"winter\")\n",
    "plt.title(\"k-means clustering result (k=4)\")"
   ],
   "metadata": {
    "collapsed": false,
    "ExecuteTime": {
     "start_time": "2024-02-10T15:56:53.693000Z",
     "end_time": "2024-02-10T15:56:53.997164Z"
    }
   }
  }
 ],
 "metadata": {
  "kernelspec": {
   "display_name": "Python 3",
   "language": "python",
   "name": "python3"
  },
  "language_info": {
   "codemirror_mode": {
    "name": "ipython",
    "version": 2
   },
   "file_extension": ".py",
   "mimetype": "text/x-python",
   "name": "python",
   "nbconvert_exporter": "python",
   "pygments_lexer": "ipython2",
   "version": "2.7.6"
  }
 },
 "nbformat": 4,
 "nbformat_minor": 0
}
