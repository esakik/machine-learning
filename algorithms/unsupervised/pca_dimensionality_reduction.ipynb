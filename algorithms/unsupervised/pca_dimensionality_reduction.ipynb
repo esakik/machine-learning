{
 "cells": [
  {
   "cell_type": "markdown",
   "source": [
    "# Installing Libraries (Python version >= 3.8)"
   ],
   "metadata": {
    "collapsed": false
   }
  },
  {
   "cell_type": "code",
   "execution_count": null,
   "outputs": [],
   "source": [
    "import sys\n",
    "version = sys.version_info\n",
    "print(version)\n",
    "assert version.major == 3 and version.minor >= 8"
   ],
   "metadata": {
    "collapsed": false,
    "ExecuteTime": {
     "start_time": "2024-02-10T15:04:14.592214Z",
     "end_time": "2024-02-10T15:04:14.601145Z"
    }
   }
  },
  {
   "cell_type": "code",
   "execution_count": null,
   "outputs": [],
   "source": [
    "!python -m pip install numpy==1.23.5 scikit-learn==1.2.2 matplotlib==3.7.4"
   ],
   "metadata": {
    "collapsed": false,
    "ExecuteTime": {
     "start_time": "2024-02-10T15:04:14.820923Z",
     "end_time": "2024-02-10T15:04:17.166161Z"
    }
   }
  },
  {
   "cell_type": "markdown",
   "source": [
    "# Extracting the Principal Components"
   ],
   "metadata": {
    "collapsed": false
   }
  },
  {
   "cell_type": "markdown",
   "source": [
    "## 1. Standardizing the data"
   ],
   "metadata": {
    "collapsed": false
   }
  },
  {
   "cell_type": "code",
   "execution_count": null,
   "outputs": [],
   "source": [
    "import numpy as np\n",
    "from sklearn import datasets, model_selection\n",
    "\n",
    "\n",
    "def standardize(X: np.ndarray) -> np.ndarray:\n",
    "    return (X - X.mean(axis=0)) / X.std(axis=0)\n",
    "\n",
    "\n",
    "dataset = datasets.load_wine()\n",
    "X = dataset.data\n",
    "y = dataset.target\n",
    "X_train, X_test, y_train, y_test = model_selection.train_test_split(X, y, test_size=0.3, random_state=0, stratify=y)\n",
    "\n",
    "X_train = standardize(X_train)\n",
    "X_test = standardize(X_test)\n",
    "\n",
    "print(\"X_train => samples: {}; features: {}; mean: {:.2f}; standard: {:.2f}\".format(*X_train.shape, X_train.mean(), X_train.std()))\n",
    "print(\"y_train => samples: {}\".format(*y_train.shape))\n",
    "print(\"X_test => samples: {}; features: {}; mean: {:.2f}; standard: {:.2f}\".format(*X_test.shape, X_test.mean(), X_test.std()))\n",
    "print(\"y_test => samples: {}\".format(*y_test.shape))"
   ],
   "metadata": {
    "collapsed": false,
    "ExecuteTime": {
     "start_time": "2024-02-10T15:04:17.677748Z",
     "end_time": "2024-02-10T15:04:17.687167Z"
    }
   }
  },
  {
   "cell_type": "markdown",
   "source": [
    "## 2. Creating the covariance matrix"
   ],
   "metadata": {
    "collapsed": false
   }
  },
  {
   "cell_type": "code",
   "execution_count": null,
   "outputs": [],
   "source": [
    "cov_mat = np.cov(X_train.T)\n",
    "print(\"Covariance matrix: \\n{}\".format(cov_mat))"
   ],
   "metadata": {
    "collapsed": false,
    "ExecuteTime": {
     "start_time": "2024-02-10T15:05:52.200309Z",
     "end_time": "2024-02-10T15:05:52.204369Z"
    }
   }
  },
  {
   "cell_type": "markdown",
   "source": [
    "## 3. Obtaining the eigenvalues and eigenvectors of the covariance matrix"
   ],
   "metadata": {
    "collapsed": false
   }
  },
  {
   "cell_type": "code",
   "execution_count": null,
   "outputs": [],
   "source": [
    "eigen_vals, eigen_vecs = np.linalg.eig(cov_mat)\n",
    "print(\"Eigenvalues: \\n{}\".format(eigen_vals))\n",
    "print(\"Eigenvectors: \\n{}\".format(eigen_vecs))"
   ],
   "metadata": {
    "collapsed": false,
    "ExecuteTime": {
     "start_time": "2024-02-10T15:06:16.516897Z",
     "end_time": "2024-02-10T15:06:16.528445Z"
    }
   }
  },
  {
   "cell_type": "markdown",
   "source": [
    "## 4. Selecting principal components using the explained variance"
   ],
   "metadata": {
    "collapsed": false
   }
  },
  {
   "cell_type": "code",
   "execution_count": null,
   "outputs": [],
   "source": [
    "explained_variance = [eigen_val / sum(eigen_vals) for eigen_val in sorted(eigen_vals, reverse=True)]\n",
    "cumulative_explained_variance = np.cumsum(explained_variance)"
   ],
   "metadata": {
    "collapsed": false,
    "ExecuteTime": {
     "start_time": "2024-02-10T15:10:32.107591Z",
     "end_time": "2024-02-10T15:10:32.113763Z"
    }
   }
  },
  {
   "cell_type": "code",
   "execution_count": null,
   "outputs": [],
   "source": [
    "import matplotlib.pyplot as plt\n",
    "\n",
    "plt.bar(range(1, len(explained_variance) + 1), explained_variance, alpha=0.5, align=\"center\", label=\"individual explained variance\")\n",
    "plt.step(range(1, len(cumulative_explained_variance) + 1), cumulative_explained_variance, where=\"mid\", label=\"cumulative explained variance\")\n",
    "plt.ylabel(\"Explained variance ratio\")\n",
    "plt.xlabel(\"Principal component index\")\n",
    "plt.legend(loc=\"best\")\n",
    "plt.show()"
   ],
   "metadata": {
    "collapsed": false,
    "ExecuteTime": {
     "start_time": "2024-02-10T15:11:02.745482Z",
     "end_time": "2024-02-10T15:11:02.945385Z"
    }
   }
  },
  {
   "cell_type": "markdown",
   "source": [
    "# Feature Transformation"
   ],
   "metadata": {
    "collapsed": false
   }
  },
  {
   "cell_type": "markdown",
   "source": [
    "## 1. Selecting k eigenvectors that correspond to the k largest eigenvalues"
   ],
   "metadata": {
    "collapsed": false
   }
  },
  {
   "cell_type": "code",
   "execution_count": null,
   "outputs": [],
   "source": [
    "eigen_pairs = [(np.abs(eigen_vals[i]), eigen_vecs[:, i]) for i in range(len(eigen_vals))]\n",
    "eigen_pairs.sort(key=lambda k: k[0], reverse=True)"
   ],
   "metadata": {
    "collapsed": false,
    "ExecuteTime": {
     "start_time": "2024-02-10T15:11:11.829484Z",
     "end_time": "2024-02-10T15:11:11.833697Z"
    }
   }
  },
  {
   "cell_type": "markdown",
   "source": [
    "## 2. Constructing the projection matrix W"
   ],
   "metadata": {
    "collapsed": false
   }
  },
  {
   "cell_type": "code",
   "execution_count": null,
   "outputs": [],
   "source": [
    "W = np.hstack((eigen_pairs[0][1][:, np.newaxis], eigen_pairs[1][1][:, np.newaxis], eigen_pairs[2][1][:, np.newaxis]))\n",
    "print(\"Matrix W: \\n{}\".format(W))"
   ],
   "metadata": {
    "collapsed": false,
    "ExecuteTime": {
     "start_time": "2024-02-10T15:11:45.724191Z",
     "end_time": "2024-02-10T15:11:45.732957Z"
    }
   }
  },
  {
   "cell_type": "markdown",
   "source": [
    "## 3. Transforming the d-dimensional input dataset X using the projection matrix W to obtain the new k-dimensional feature subspace"
   ],
   "metadata": {
    "collapsed": false
   }
  },
  {
   "cell_type": "code",
   "execution_count": null,
   "outputs": [],
   "source": [
    "X_train_pca = np.dot(X_train, W)\n",
    "print(\"Dataset before transformation => samples: {}; features: {}）\".format(*X_train.shape))\n",
    "print(\"Dataset after transformation => samples: {}; features: {}）\".format(*X_train_pca.shape))"
   ],
   "metadata": {
    "collapsed": false,
    "ExecuteTime": {
     "start_time": "2024-02-10T15:13:26.061549Z",
     "end_time": "2024-02-10T15:13:26.070437Z"
    }
   }
  },
  {
   "cell_type": "markdown",
   "source": [
    "# Visualizing the transformed Wine training dataset"
   ],
   "metadata": {
    "collapsed": false
   }
  },
  {
   "cell_type": "code",
   "execution_count": null,
   "outputs": [],
   "source": [
    "fig = plt.figure(figsize=(6, 6))\n",
    "ax = fig.add_subplot(1, 1, 1, projection=\"3d\")\n",
    "\n",
    "colors = [\"r\", \"b\", \"g\"]\n",
    "for t, c in zip(np.unique(y_train), colors):\n",
    "    ax.scatter3D(X_train_pca[y_train == t, 0], X_train_pca[y_train == t, 1], X_train_pca[y_train == t, 2], c=c, label=t, s=50)\n",
    "\n",
    "ax.set_title(\"Dimension Reduction to 3D\")\n",
    "ax.set_xlabel(\"Principle Component 1\")\n",
    "ax.set_ylabel(\"Principle Component 2\")\n",
    "ax.set_zlabel(\"Principle Component 3\")\n",
    "plt.tight_layout()\n",
    "plt.legend()\n",
    "plt.show()"
   ],
   "metadata": {
    "collapsed": false,
    "ExecuteTime": {
     "start_time": "2024-02-10T15:14:29.036029Z",
     "end_time": "2024-02-10T15:14:29.288046Z"
    }
   }
  },
  {
   "cell_type": "code",
   "execution_count": null,
   "outputs": [],
   "source": [
    "W = np.hstack((eigen_pairs[0][1][:, np.newaxis], eigen_pairs[1][1][:, np.newaxis]))\n",
    "\n",
    "X_train_pca = np.dot(X_train, W)\n",
    "print(\"Dataset before transformation => samples: {}; features: {}）\".format(*X_train.shape))\n",
    "print(\"Dataset after transformation => samples: {}; features: {}）\".format(*X_train_pca.shape))"
   ],
   "metadata": {
    "collapsed": false,
    "ExecuteTime": {
     "start_time": "2024-02-10T15:14:54.829947Z",
     "end_time": "2024-02-10T15:14:54.835388Z"
    }
   }
  },
  {
   "cell_type": "code",
   "execution_count": null,
   "outputs": [],
   "source": [
    "colors = [\"r\", \"b\", \"g\"]\n",
    "markers = [\"s\", \"x\", \"o\"]\n",
    "for t, c, m in zip(np.unique(y_train), colors, markers):\n",
    "    plt.scatter(X_train_pca[y_train == t, 0], X_train_pca[y_train == t, 1], c=c, label=t, marker=m)\n",
    "\n",
    "plt.title(\"Dimension Reduction to 2D\")\n",
    "plt.xlabel(\"Principle Component 1\")\n",
    "plt.ylabel(\"Principle Component 2\")\n",
    "plt.tight_layout()\n",
    "plt.legend()\n",
    "plt.show()"
   ],
   "metadata": {
    "collapsed": false,
    "ExecuteTime": {
     "start_time": "2024-02-10T15:15:31.429328Z",
     "end_time": "2024-02-10T15:15:31.653456Z"
    }
   }
  }
 ],
 "metadata": {
  "kernelspec": {
   "display_name": "Python 3",
   "language": "python",
   "name": "python3"
  },
  "language_info": {
   "codemirror_mode": {
    "name": "ipython",
    "version": 2
   },
   "file_extension": ".py",
   "mimetype": "text/x-python",
   "name": "python",
   "nbconvert_exporter": "python",
   "pygments_lexer": "ipython2",
   "version": "2.7.6"
  }
 },
 "nbformat": 4,
 "nbformat_minor": 0
}
